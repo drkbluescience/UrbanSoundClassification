{
  "cells": [
    {
      "cell_type": "markdown",
      "metadata": {
        "id": "view-in-github",
        "colab_type": "text"
      },
      "source": [
        "<a href=\"https://colab.research.google.com/github/drkbluescience/UrbanSoundClassification/blob/main/model.ipynb\" target=\"_parent\"><img src=\"https://colab.research.google.com/assets/colab-badge.svg\" alt=\"Open In Colab\"/></a>"
      ]
    },
    {
      "cell_type": "code",
      "source": [
        "from google.colab import drive\n",
        "drive.mount('/gdrive')\n",
        "%cd /gdrive"
      ],
      "metadata": {
        "colab": {
          "base_uri": "https://localhost:8080/"
        },
        "id": "TD04yZMuo8Tn",
        "outputId": "709ee9b3-a06a-4b58-975d-f12acc2fe69d"
      },
      "id": "TD04yZMuo8Tn",
      "execution_count": 17,
      "outputs": [
        {
          "output_type": "stream",
          "name": "stdout",
          "text": [
            "Drive already mounted at /gdrive; to attempt to forcibly remount, call drive.mount(\"/gdrive\", force_remount=True).\n",
            "/gdrive\n"
          ]
        }
      ]
    },
    {
      "cell_type": "code",
      "source": [
        "import os\n",
        "os.chdir(\"/gdrive/MyDrive/UrbanSoundClassification/\")"
      ],
      "metadata": {
        "id": "3NyZ6k8Eo_KX"
      },
      "id": "3NyZ6k8Eo_KX",
      "execution_count": 18,
      "outputs": []
    },
    {
      "cell_type": "code",
      "execution_count": 19,
      "id": "cbb4e1af",
      "metadata": {
        "id": "cbb4e1af"
      },
      "outputs": [],
      "source": [
        "import pickle\n",
        "import tensorflow as tf\n",
        "from tensorflow import keras\n",
        "from keras.models import Sequential\n",
        "from keras.layers import Dense, Dropout, Flatten, Conv2D, MaxPool2D, BatchNormalization, Activation\n",
        "from keras.optimizers import Adam\n",
        "from keras.preprocessing.image import ImageDataGenerator\n",
        "from keras.callbacks import ModelCheckpoint\n",
        "from sklearn.metrics import confusion_matrix\n",
        "import itertools\n",
        "from keras.utils.np_utils import to_categorical\n",
        "import matplotlib.pyplot as plt"
      ]
    },
    {
      "cell_type": "code",
      "execution_count": 20,
      "id": "aee05bd4",
      "metadata": {
        "id": "aee05bd4"
      },
      "outputs": [],
      "source": [
        "# Get dataset\n",
        "\n",
        "pickle_file_link = \"dataset/\"\n",
        "x_train = pickle.load(open(f\"{pickle_file_link}/x_train.pickle\",\"rb\"))\n",
        "y_train = pickle.load(open(f\"{pickle_file_link}/y_train.pickle\",\"rb\"))\n",
        "\n",
        "x_test = pickle.load(open(f\"{pickle_file_link}/x_test.pickle\",\"rb\"))\n",
        "y_test = pickle.load(open(f\"{pickle_file_link}/y_test.pickle\",\"rb\"))\n",
        "\n",
        "x_val = pickle.load(open(f\"{pickle_file_link}/x_val.pickle\",\"rb\"))\n",
        "y_val = pickle.load(open(f\"{pickle_file_link}/y_val.pickle\",\"rb\"))"
      ]
    },
    {
      "cell_type": "code",
      "execution_count": 21,
      "id": "17f82102",
      "metadata": {
        "colab": {
          "base_uri": "https://localhost:8080/"
        },
        "id": "17f82102",
        "outputId": "bbf5694d-8213-40e8-a179-d05e95e54948"
      },
      "outputs": [
        {
          "output_type": "stream",
          "name": "stdout",
          "text": [
            "(5588, 128, 128)\n",
            "(1397, 128, 128)\n",
            "(1747, 128, 128)\n",
            "(5588, 128, 128, 1)\n",
            "(5588,)\n",
            "(1397, 128, 128, 1)\n"
          ]
        }
      ],
      "source": [
        "import numpy as np\n",
        "print(x_train.shape)\n",
        "print(x_val.shape)\n",
        "print(x_test.shape)\n",
        "x_train = np.reshape (x_train, (len(x_train), 128, 128, 1))\n",
        "x_val =  np.reshape (x_val, (len(x_val), 128, 128, 1))\n",
        "x_test =  np.reshape (x_test, (len(x_test), 128, 128, 1))\n",
        "print(x_train.shape)\n",
        "print(y_train.shape)\n",
        "print(x_val.shape)"
      ]
    },
    {
      "cell_type": "code",
      "execution_count": 22,
      "id": "0d41bba6",
      "metadata": {
        "colab": {
          "base_uri": "https://localhost:8080/"
        },
        "id": "0d41bba6",
        "outputId": "511c2566-8ba2-4ce2-9d31-dbc44107dc75"
      },
      "outputs": [
        {
          "output_type": "stream",
          "name": "stdout",
          "text": [
            "Train: (5588, 128, 128, 1)\n",
            "Test: (1747, 128, 128, 1)\n"
          ]
        }
      ],
      "source": [
        "x_train = x_train.reshape(-1, 128, 128, 1)\n",
        "x_test = x_test.reshape(-1, 128, 128, 1)\n",
        "\n",
        "print('Train:', x_train.shape)\n",
        "print('Test:', x_test.shape)"
      ]
    },
    {
      "cell_type": "code",
      "execution_count": 23,
      "id": "0a6a87c4",
      "metadata": {
        "id": "0a6a87c4",
        "colab": {
          "base_uri": "https://localhost:8080/"
        },
        "outputId": "5796636f-61f9-4c2f-c286-8a794b4a3a4f"
      },
      "outputs": [
        {
          "output_type": "stream",
          "name": "stdout",
          "text": [
            "Model: \"sequential_3\"\n",
            "_________________________________________________________________\n",
            " Layer (type)                Output Shape              Param #   \n",
            "=================================================================\n",
            " conv2d_12 (Conv2D)          (None, 126, 126, 64)      640       \n",
            "                                                                 \n",
            " batch_normalization_6 (Batc  (None, 126, 126, 64)     256       \n",
            " hNormalization)                                                 \n",
            "                                                                 \n",
            " activation_7 (Activation)   (None, 126, 126, 64)      0         \n",
            "                                                                 \n",
            " conv2d_13 (Conv2D)          (None, 124, 124, 64)      36928     \n",
            "                                                                 \n",
            " batch_normalization_7 (Batc  (None, 124, 124, 64)     256       \n",
            " hNormalization)                                                 \n",
            "                                                                 \n",
            " activation_8 (Activation)   (None, 124, 124, 64)      0         \n",
            "                                                                 \n",
            " max_pooling2d_8 (MaxPooling  (None, 62, 62, 64)       0         \n",
            " 2D)                                                             \n",
            "                                                                 \n",
            " dropout_9 (Dropout)         (None, 62, 62, 64)        0         \n",
            "                                                                 \n",
            " conv2d_14 (Conv2D)          (None, 60, 60, 32)        18464     \n",
            "                                                                 \n",
            " batch_normalization_8 (Batc  (None, 60, 60, 32)       128       \n",
            " hNormalization)                                                 \n",
            "                                                                 \n",
            " activation_9 (Activation)   (None, 60, 60, 32)        0         \n",
            "                                                                 \n",
            " conv2d_15 (Conv2D)          (None, 58, 58, 32)        9248      \n",
            "                                                                 \n",
            " batch_normalization_9 (Batc  (None, 58, 58, 32)       128       \n",
            " hNormalization)                                                 \n",
            "                                                                 \n",
            " activation_10 (Activation)  (None, 58, 58, 32)        0         \n",
            "                                                                 \n",
            " conv2d_16 (Conv2D)          (None, 56, 56, 32)        9248      \n",
            "                                                                 \n",
            " batch_normalization_10 (Bat  (None, 56, 56, 32)       128       \n",
            " chNormalization)                                                \n",
            "                                                                 \n",
            " activation_11 (Activation)  (None, 56, 56, 32)        0         \n",
            "                                                                 \n",
            " max_pooling2d_9 (MaxPooling  (None, 28, 28, 32)       0         \n",
            " 2D)                                                             \n",
            "                                                                 \n",
            " dropout_10 (Dropout)        (None, 28, 28, 32)        0         \n",
            "                                                                 \n",
            " flatten_3 (Flatten)         (None, 25088)             0         \n",
            "                                                                 \n",
            " dense_10 (Dense)            (None, 128)               3211392   \n",
            "                                                                 \n",
            " batch_normalization_11 (Bat  (None, 128)              512       \n",
            " chNormalization)                                                \n",
            "                                                                 \n",
            " activation_12 (Activation)  (None, 128)               0         \n",
            "                                                                 \n",
            " dropout_11 (Dropout)        (None, 128)               0         \n",
            "                                                                 \n",
            " dense_11 (Dense)            (None, 10)                1290      \n",
            "                                                                 \n",
            " activation_13 (Activation)  (None, 10)                0         \n",
            "                                                                 \n",
            "=================================================================\n",
            "Total params: 3,288,618\n",
            "Trainable params: 3,287,914\n",
            "Non-trainable params: 704\n",
            "_________________________________________________________________\n"
          ]
        }
      ],
      "source": [
        "model = Sequential()\n",
        "\n",
        "# Layer 1\n",
        "model.add(Conv2D(64, 3, data_format=\"channels_last\", kernel_initializer=\"he_normal\", input_shape=(128,128,1)))\n",
        "model.add(BatchNormalization())\n",
        "model.add(Activation('relu'))\n",
        "\n",
        "# Layer 2\n",
        "model.add(Conv2D(64, 3))\n",
        "model.add(BatchNormalization())\n",
        "model.add(Activation('relu'))\n",
        "model.add(MaxPool2D(pool_size=(2,2), strides=2))\n",
        "model.add(Dropout(0.6)) \n",
        "# Layer 3\n",
        "model.add(Conv2D(32, 3))\n",
        "model.add(BatchNormalization())\n",
        "model.add(Activation('relu'))\n",
        "\n",
        "\n",
        "# Layer 4\n",
        "model.add(Conv2D(32, 3))\n",
        "model.add(BatchNormalization())\n",
        "model.add(Activation('relu'))\n",
        "\n",
        "#Layer 5\n",
        "model.add(Conv2D(32, 3))\n",
        "model.add(BatchNormalization())\n",
        "model.add(Activation('relu'))\n",
        "model.add(MaxPool2D(pool_size=(2,2), strides=2))\n",
        "model.add(Dropout(0.6)) \n",
        "\n",
        "#fully Connected Layer\n",
        "model.add(Flatten())\n",
        "model.add(Dense(128))\n",
        "model.add(BatchNormalization())\n",
        "model.add(Activation('relu'))\n",
        "model.add(Dropout(0.6)) #\n",
        "\n",
        "#Output Layer\n",
        "model.add(Dense(10))\n",
        "model.add(Activation('softmax')) \n",
        "\n",
        "model.compile(loss='sparse_categorical_crossentropy', optimizer='adam', metrics=['accuracy'])\n",
        "\n",
        "model.summary()"
      ]
    },
    {
      "cell_type": "code",
      "execution_count": 24,
      "id": "e83e1193",
      "metadata": {
        "id": "e83e1193",
        "colab": {
          "base_uri": "https://localhost:8080/"
        },
        "outputId": "9e009267-60d2-4adb-9afd-e42543b06ac0"
      },
      "outputs": [
        {
          "output_type": "stream",
          "name": "stdout",
          "text": [
            "Epoch 1/30\n",
            "\n",
            "Epoch 1: val_loss improved from inf to 1.36223, saving model to models/sound_model1.h5\n",
            "175/175 - 15s - loss: 1.6743 - accuracy: 0.4381 - val_loss: 1.3622 - val_accuracy: 0.5347 - 15s/epoch - 83ms/step\n",
            "Epoch 2/30\n",
            "\n",
            "Epoch 2: val_loss improved from 1.36223 to 1.02562, saving model to models/sound_model1.h5\n",
            "175/175 - 14s - loss: 1.1580 - accuracy: 0.6052 - val_loss: 1.0256 - val_accuracy: 0.6535 - 14s/epoch - 80ms/step\n",
            "Epoch 3/30\n",
            "\n",
            "Epoch 3: val_loss did not improve from 1.02562\n",
            "175/175 - 12s - loss: 0.9452 - accuracy: 0.6890 - val_loss: 1.1588 - val_accuracy: 0.5784 - 12s/epoch - 71ms/step\n",
            "Epoch 4/30\n",
            "\n",
            "Epoch 4: val_loss improved from 1.02562 to 0.99617, saving model to models/sound_model1.h5\n",
            "175/175 - 13s - loss: 0.8002 - accuracy: 0.7369 - val_loss: 0.9962 - val_accuracy: 0.6764 - 13s/epoch - 76ms/step\n",
            "Epoch 5/30\n",
            "\n",
            "Epoch 5: val_loss improved from 0.99617 to 0.56175, saving model to models/sound_model1.h5\n",
            "175/175 - 12s - loss: 0.6768 - accuracy: 0.7831 - val_loss: 0.5617 - val_accuracy: 0.8253 - 12s/epoch - 71ms/step\n",
            "Epoch 6/30\n",
            "\n",
            "Epoch 6: val_loss did not improve from 0.56175\n",
            "175/175 - 12s - loss: 0.5948 - accuracy: 0.8099 - val_loss: 0.9576 - val_accuracy: 0.7194 - 12s/epoch - 70ms/step\n",
            "Epoch 7/30\n",
            "\n",
            "Epoch 7: val_loss improved from 0.56175 to 0.50433, saving model to models/sound_model1.h5\n",
            "175/175 - 13s - loss: 0.5291 - accuracy: 0.8309 - val_loss: 0.5043 - val_accuracy: 0.8540 - 13s/epoch - 76ms/step\n",
            "Epoch 8/30\n",
            "\n",
            "Epoch 8: val_loss did not improve from 0.50433\n",
            "175/175 - 13s - loss: 0.4448 - accuracy: 0.8586 - val_loss: 0.5941 - val_accuracy: 0.8039 - 13s/epoch - 72ms/step\n",
            "Epoch 9/30\n",
            "\n",
            "Epoch 9: val_loss did not improve from 0.50433\n",
            "175/175 - 12s - loss: 0.4170 - accuracy: 0.8651 - val_loss: 0.7234 - val_accuracy: 0.7853 - 12s/epoch - 71ms/step\n",
            "Epoch 10/30\n",
            "\n",
            "Epoch 10: val_loss did not improve from 0.50433\n",
            "175/175 - 12s - loss: 0.3645 - accuracy: 0.8812 - val_loss: 0.5158 - val_accuracy: 0.8404 - 12s/epoch - 70ms/step\n",
            "Epoch 11/30\n",
            "\n",
            "Epoch 11: val_loss improved from 0.50433 to 0.42339, saving model to models/sound_model1.h5\n",
            "175/175 - 13s - loss: 0.3355 - accuracy: 0.8876 - val_loss: 0.4234 - val_accuracy: 0.8697 - 13s/epoch - 76ms/step\n",
            "Epoch 12/30\n",
            "\n",
            "Epoch 12: val_loss did not improve from 0.42339\n",
            "175/175 - 12s - loss: 0.3148 - accuracy: 0.8994 - val_loss: 0.4863 - val_accuracy: 0.8583 - 12s/epoch - 70ms/step\n",
            "Epoch 13/30\n",
            "\n",
            "Epoch 13: val_loss did not improve from 0.42339\n",
            "175/175 - 13s - loss: 0.2849 - accuracy: 0.9044 - val_loss: 0.4640 - val_accuracy: 0.8590 - 13s/epoch - 73ms/step\n",
            "Epoch 14/30\n",
            "\n",
            "Epoch 14: val_loss improved from 0.42339 to 0.39122, saving model to models/sound_model1.h5\n",
            "175/175 - 13s - loss: 0.2561 - accuracy: 0.9175 - val_loss: 0.3912 - val_accuracy: 0.8855 - 13s/epoch - 75ms/step\n",
            "Epoch 15/30\n",
            "\n",
            "Epoch 15: val_loss did not improve from 0.39122\n",
            "175/175 - 12s - loss: 0.2410 - accuracy: 0.9247 - val_loss: 0.5714 - val_accuracy: 0.8461 - 12s/epoch - 70ms/step\n",
            "Epoch 16/30\n",
            "\n",
            "Epoch 16: val_loss did not improve from 0.39122\n",
            "175/175 - 12s - loss: 0.2334 - accuracy: 0.9241 - val_loss: 0.4258 - val_accuracy: 0.8726 - 12s/epoch - 70ms/step\n",
            "Epoch 17/30\n",
            "\n",
            "Epoch 17: val_loss did not improve from 0.39122\n",
            "175/175 - 12s - loss: 0.2141 - accuracy: 0.9279 - val_loss: 0.4041 - val_accuracy: 0.8833 - 12s/epoch - 70ms/step\n",
            "Epoch 18/30\n",
            "\n",
            "Epoch 18: val_loss did not improve from 0.39122\n",
            "175/175 - 12s - loss: 0.1970 - accuracy: 0.9309 - val_loss: 0.3917 - val_accuracy: 0.8797 - 12s/epoch - 70ms/step\n",
            "Epoch 19/30\n",
            "\n",
            "Epoch 19: val_loss did not improve from 0.39122\n",
            "175/175 - 12s - loss: 0.2106 - accuracy: 0.9288 - val_loss: 0.4012 - val_accuracy: 0.8869 - 12s/epoch - 70ms/step\n",
            "Epoch 20/30\n",
            "\n",
            "Epoch 20: val_loss improved from 0.39122 to 0.38526, saving model to models/sound_model1.h5\n",
            "175/175 - 14s - loss: 0.1719 - accuracy: 0.9438 - val_loss: 0.3853 - val_accuracy: 0.8840 - 14s/epoch - 81ms/step\n",
            "Epoch 21/30\n",
            "\n",
            "Epoch 21: val_loss did not improve from 0.38526\n",
            "175/175 - 12s - loss: 0.1716 - accuracy: 0.9402 - val_loss: 0.4402 - val_accuracy: 0.8819 - 12s/epoch - 70ms/step\n",
            "Epoch 22/30\n",
            "\n",
            "Epoch 22: val_loss did not improve from 0.38526\n",
            "175/175 - 12s - loss: 0.1764 - accuracy: 0.9388 - val_loss: 0.5352 - val_accuracy: 0.8432 - 12s/epoch - 70ms/step\n",
            "Epoch 23/30\n",
            "\n",
            "Epoch 23: val_loss did not improve from 0.38526\n",
            "175/175 - 12s - loss: 0.1654 - accuracy: 0.9443 - val_loss: 0.3880 - val_accuracy: 0.8955 - 12s/epoch - 70ms/step\n",
            "Epoch 24/30\n",
            "\n",
            "Epoch 24: val_loss did not improve from 0.38526\n",
            "175/175 - 13s - loss: 0.1611 - accuracy: 0.9467 - val_loss: 0.4455 - val_accuracy: 0.8783 - 13s/epoch - 72ms/step\n",
            "Epoch 25/30\n",
            "\n",
            "Epoch 25: val_loss improved from 0.38526 to 0.36161, saving model to models/sound_model1.h5\n",
            "175/175 - 13s - loss: 0.1425 - accuracy: 0.9503 - val_loss: 0.3616 - val_accuracy: 0.8998 - 13s/epoch - 75ms/step\n",
            "Epoch 26/30\n",
            "\n",
            "Epoch 26: val_loss did not improve from 0.36161\n",
            "175/175 - 12s - loss: 0.1246 - accuracy: 0.9565 - val_loss: 0.3948 - val_accuracy: 0.8876 - 12s/epoch - 70ms/step\n",
            "Epoch 27/30\n",
            "\n",
            "Epoch 27: val_loss did not improve from 0.36161\n",
            "175/175 - 12s - loss: 0.1333 - accuracy: 0.9556 - val_loss: 0.3944 - val_accuracy: 0.8991 - 12s/epoch - 70ms/step\n",
            "Epoch 28/30\n",
            "\n",
            "Epoch 28: val_loss did not improve from 0.36161\n",
            "175/175 - 12s - loss: 0.1206 - accuracy: 0.9601 - val_loss: 0.4167 - val_accuracy: 0.8948 - 12s/epoch - 70ms/step\n",
            "Epoch 29/30\n",
            "\n",
            "Epoch 29: val_loss did not improve from 0.36161\n",
            "175/175 - 12s - loss: 0.1252 - accuracy: 0.9581 - val_loss: 0.4083 - val_accuracy: 0.8919 - 12s/epoch - 70ms/step\n",
            "Epoch 30/30\n",
            "\n",
            "Epoch 30: val_loss improved from 0.36161 to 0.34229, saving model to models/sound_model1.h5\n",
            "175/175 - 13s - loss: 0.1250 - accuracy: 0.9576 - val_loss: 0.3423 - val_accuracy: 0.9091 - 13s/epoch - 75ms/step\n"
          ]
        }
      ],
      "source": [
        "# save the best weights\n",
        "checkpointer = ModelCheckpoint(filepath='models/sound_model1.h5', verbose=1, save_best_only=True)\n",
        "\n",
        "epochs = 30\n",
        "batchSize = 32\n",
        "\n",
        "# run the model\n",
        "\n",
        "hist = model.fit(x_train, y_train,\n",
        "                 epochs=epochs,\n",
        "                 shuffle=True,\n",
        "                 batch_size=batchSize,\n",
        "                 validation_data=(x_val, y_val),\n",
        "                 callbacks=[checkpointer], verbose=2)\n",
        "                \n",
        "# save model to json\n",
        "model_json = model.to_json()\n",
        "with open('models/sound_model1.json', 'w') as json_file:\n",
        "  json_file.write(model_json)"
      ]
    },
    {
      "cell_type": "code",
      "execution_count": 25,
      "id": "7b04b2ff",
      "metadata": {
        "id": "7b04b2ff",
        "colab": {
          "base_uri": "https://localhost:8080/",
          "height": 233
        },
        "outputId": "66d0f7e9-0262-4fc7-8d22-63afff616429"
      },
      "outputs": [
        {
          "output_type": "display_data",
          "data": {
            "text/plain": [
              "<Figure size 1008x216 with 2 Axes>"
            ],
            "image/png": "[encoded data removed]"
          },
          "metadata": {
            "needs_background": "light"
          }
        }
      ],
      "source": [
        "plt.figure(figsize=(14,3))\n",
        "plt.subplot(1, 2, 1)\n",
        "plt.suptitle('Eğitim', fontsize=10)\n",
        "plt.ylabel('Loss', fontsize=16)\n",
        "plt.plot(hist.history['loss'], color ='r', label='Training Loss')\n",
        "plt.plot(hist.history['val_loss'], color ='b', label='Validation Loss')\n",
        "plt.legend(loc='upper right')\n",
        "\n",
        "\n",
        "plt.subplot(1, 2, 2)\n",
        "plt.ylabel('Accuracy', fontsize=16)\n",
        "plt.plot(hist.history['accuracy'], color ='g', label='Training Accuracy')\n",
        "plt.plot(hist.history['val_accuracy'], color ='m', label='Validation Accuracy')\n",
        "plt.legend(loc='lower right')\n",
        "\n",
        "plt.show()"
      ]
    },
    {
      "cell_type": "code",
      "source": [
        "score = model.evaluate(x_test, y_test, verbose=0)\n",
        "print('Test Loss:', score[0])\n",
        "print('Test Accuracy:', score[1])"
      ],
      "metadata": {
        "id": "r846jXSSrvLX",
        "colab": {
          "base_uri": "https://localhost:8080/"
        },
        "outputId": "7d0dc942-973a-4037-acfa-2c9944b404e9"
      },
      "id": "r846jXSSrvLX",
      "execution_count": 26,
      "outputs": [
        {
          "output_type": "stream",
          "name": "stdout",
          "text": [
            "Test Loss: 0.31832125782966614\n",
            "Test Accuracy: 0.9152833223342896\n"
          ]
        }
      ]
    },
    {
      "cell_type": "code",
      "source": [
        "stop_early = tf.keras.callbacks.EarlyStopping(monitor='val_loss', patience=10)\n",
        "\n",
        "epochs = 30\n",
        "batchSize = 32\n",
        "\n",
        "# run the model\n",
        "\n",
        "hist = model.fit(x_train, y_train,\n",
        "                 epochs=epochs,\n",
        "                 shuffle=True,\n",
        "                 batch_size=batchSize,\n",
        "                 validation_data=(x_val, y_val),\n",
        "                 callbacks=[stop_early], verbose=2)"
      ],
      "metadata": {
        "id": "_6ziRtnrxmNy",
        "colab": {
          "base_uri": "https://localhost:8080/"
        },
        "outputId": "5e84f8e6-9d88-4813-fac7-e800b2f3bde8"
      },
      "id": "_6ziRtnrxmNy",
      "execution_count": 27,
      "outputs": [
        {
          "output_type": "stream",
          "name": "stdout",
          "text": [
            "Epoch 1/30\n",
            "175/175 - 12s - loss: 0.1218 - accuracy: 0.9615 - val_loss: 0.4026 - val_accuracy: 0.8941 - 12s/epoch - 70ms/step\n",
            "Epoch 2/30\n",
            "175/175 - 12s - loss: 0.1127 - accuracy: 0.9619 - val_loss: 0.4316 - val_accuracy: 0.8955 - 12s/epoch - 70ms/step\n",
            "Epoch 3/30\n",
            "175/175 - 12s - loss: 0.1137 - accuracy: 0.9594 - val_loss: 0.5409 - val_accuracy: 0.8747 - 12s/epoch - 70ms/step\n",
            "Epoch 4/30\n",
            "175/175 - 12s - loss: 0.1153 - accuracy: 0.9596 - val_loss: 0.4609 - val_accuracy: 0.8862 - 12s/epoch - 70ms/step\n",
            "Epoch 5/30\n",
            "175/175 - 13s - loss: 0.1097 - accuracy: 0.9642 - val_loss: 0.3863 - val_accuracy: 0.9055 - 13s/epoch - 72ms/step\n",
            "Epoch 6/30\n",
            "175/175 - 13s - loss: 0.1004 - accuracy: 0.9687 - val_loss: 0.3784 - val_accuracy: 0.8976 - 13s/epoch - 72ms/step\n",
            "Epoch 7/30\n",
            "175/175 - 12s - loss: 0.0956 - accuracy: 0.9665 - val_loss: 0.4804 - val_accuracy: 0.8926 - 12s/epoch - 70ms/step\n",
            "Epoch 8/30\n",
            "175/175 - 12s - loss: 0.0916 - accuracy: 0.9678 - val_loss: 0.4840 - val_accuracy: 0.8833 - 12s/epoch - 70ms/step\n",
            "Epoch 9/30\n",
            "175/175 - 12s - loss: 0.1131 - accuracy: 0.9624 - val_loss: 0.4276 - val_accuracy: 0.8919 - 12s/epoch - 70ms/step\n",
            "Epoch 10/30\n",
            "175/175 - 12s - loss: 0.0979 - accuracy: 0.9687 - val_loss: 0.4085 - val_accuracy: 0.8962 - 12s/epoch - 70ms/step\n",
            "Epoch 11/30\n",
            "175/175 - 12s - loss: 0.1022 - accuracy: 0.9646 - val_loss: 0.4108 - val_accuracy: 0.9055 - 12s/epoch - 70ms/step\n",
            "Epoch 12/30\n",
            "175/175 - 12s - loss: 0.0982 - accuracy: 0.9678 - val_loss: 0.3718 - val_accuracy: 0.9062 - 12s/epoch - 70ms/step\n",
            "Epoch 13/30\n",
            "175/175 - 12s - loss: 0.0885 - accuracy: 0.9701 - val_loss: 0.3722 - val_accuracy: 0.9026 - 12s/epoch - 70ms/step\n",
            "Epoch 14/30\n",
            "175/175 - 12s - loss: 0.0869 - accuracy: 0.9708 - val_loss: 0.4147 - val_accuracy: 0.8962 - 12s/epoch - 70ms/step\n",
            "Epoch 15/30\n",
            "175/175 - 12s - loss: 0.0850 - accuracy: 0.9719 - val_loss: 0.4769 - val_accuracy: 0.8984 - 12s/epoch - 70ms/step\n",
            "Epoch 16/30\n",
            "175/175 - 13s - loss: 0.0755 - accuracy: 0.9741 - val_loss: 0.4338 - val_accuracy: 0.8941 - 13s/epoch - 72ms/step\n",
            "Epoch 17/30\n",
            "175/175 - 12s - loss: 0.0900 - accuracy: 0.9705 - val_loss: 0.5726 - val_accuracy: 0.8805 - 12s/epoch - 70ms/step\n",
            "Epoch 18/30\n",
            "175/175 - 12s - loss: 0.0822 - accuracy: 0.9744 - val_loss: 0.7382 - val_accuracy: 0.8654 - 12s/epoch - 70ms/step\n",
            "Epoch 19/30\n",
            "175/175 - 12s - loss: 0.0825 - accuracy: 0.9741 - val_loss: 0.4585 - val_accuracy: 0.8905 - 12s/epoch - 70ms/step\n",
            "Epoch 20/30\n",
            "175/175 - 12s - loss: 0.0758 - accuracy: 0.9723 - val_loss: 0.3904 - val_accuracy: 0.9062 - 12s/epoch - 70ms/step\n",
            "Epoch 21/30\n",
            "175/175 - 13s - loss: 0.0722 - accuracy: 0.9749 - val_loss: 0.5117 - val_accuracy: 0.8933 - 13s/epoch - 72ms/step\n",
            "Epoch 22/30\n",
            "175/175 - 12s - loss: 0.0827 - accuracy: 0.9694 - val_loss: 0.4572 - val_accuracy: 0.8984 - 12s/epoch - 70ms/step\n"
          ]
        }
      ]
    },
    {
      "cell_type": "code",
      "source": [
        "plt.figure(figsize=(14,3))\n",
        "plt.subplot(1, 2, 1)\n",
        "plt.suptitle('Eğitim', fontsize=10)\n",
        "plt.ylabel('Loss', fontsize=16)\n",
        "plt.plot(hist.history['loss'], color ='r', label='Training Loss')\n",
        "plt.plot(hist.history['val_loss'], color ='b', label='Validation Loss')\n",
        "plt.legend(loc='upper right')\n",
        "\n",
        "\n",
        "plt.subplot(1, 2, 2)\n",
        "plt.ylabel('Accuracy', fontsize=16)\n",
        "plt.plot(hist.history['accuracy'], color ='g', label='Training Accuracy')\n",
        "plt.plot(hist.history['val_accuracy'], color ='m', label='Validation Accuracy')\n",
        "plt.legend(loc='lower right')\n",
        "\n",
        "plt.show()"
      ],
      "metadata": {
        "id": "26rIF_ecx5x_",
        "colab": {
          "base_uri": "https://localhost:8080/",
          "height": 233
        },
        "outputId": "ac1a56d3-bed4-4aa0-de6d-9619412f4d55"
      },
      "id": "26rIF_ecx5x_",
      "execution_count": 28,
      "outputs": [
        {
          "output_type": "display_data",
          "data": {
            "text/plain": [
              "<Figure size 1008x216 with 2 Axes>"
            ],
            "image/png": "[encoded data removed]"
          },
          "metadata": {
            "needs_background": "light"
          }
        }
      ]
    },
    {
      "cell_type": "code",
      "source": [
        "score = model.evaluate(x_test, y_test, verbose=0)\n",
        "print('Test Loss:', score[0])\n",
        "print('Test Accuracy:', score[1])"
      ],
      "metadata": {
        "id": "TLB6jhwv0mua",
        "colab": {
          "base_uri": "https://localhost:8080/"
        },
        "outputId": "482ea6a6-8cf6-4f75-a2af-588b69223030"
      },
      "id": "TLB6jhwv0mua",
      "execution_count": 29,
      "outputs": [
        {
          "output_type": "stream",
          "name": "stdout",
          "text": [
            "Test Loss: 0.39720895886421204\n",
            "Test Accuracy: 0.9009730815887451\n"
          ]
        }
      ]
    }
  ],
  "metadata": {
    "kernelspec": {
      "display_name": "Python 3 (ipykernel)",
      "language": "python",
      "name": "python3"
    },
    "language_info": {
      "codemirror_mode": {
        "name": "ipython",
        "version": 3
      },
      "file_extension": ".py",
      "mimetype": "text/x-python",
      "name": "python",
      "nbconvert_exporter": "python",
      "pygments_lexer": "ipython3",
      "version": "3.9.13"
    },
    "colab": {
      "provenance": [],
      "collapsed_sections": [],
      "toc_visible": true,
      "include_colab_link": true
    },
    "accelerator": "GPU",
    "gpuClass": "standard"
  },
  "nbformat": 4,
  "nbformat_minor": 5
}