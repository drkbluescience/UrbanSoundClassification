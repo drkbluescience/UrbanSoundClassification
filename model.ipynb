{
  "cells": [
    {
      "cell_type": "markdown",
      "metadata": {
        "id": "view-in-github",
        "colab_type": "text"
      },
      "source": [
        "<a href=\"https://colab.research.google.com/github/zengin-enise/UrbanSoundClassification/blob/main/model.ipynb\" target=\"_parent\"><img src=\"https://colab.research.google.com/assets/colab-badge.svg\" alt=\"Open In Colab\"/></a>"
      ]
    },
    {
      "cell_type": "code",
      "source": [
        "from google.colab import drive\n",
        "drive.mount('/gdrive')\n",
        "%cd /gdrive"
      ],
      "metadata": {
        "colab": {
          "base_uri": "https://localhost:8080/"
        },
        "id": "TD04yZMuo8Tn",
        "outputId": "5f60b478-f90b-471a-e0cd-717e9c971f89"
      },
      "id": "TD04yZMuo8Tn",
      "execution_count": 1,
      "outputs": [
        {
          "output_type": "stream",
          "name": "stdout",
          "text": [
            "Mounted at /gdrive\n",
            "/gdrive\n"
          ]
        }
      ]
    },
    {
      "cell_type": "code",
      "source": [
        "!ls \"/gdrive/MyDrive/UrbanSoundClassification\""
      ],
      "metadata": {
        "colab": {
          "base_uri": "https://localhost:8080/"
        },
        "id": "78eNTfYao_GA",
        "outputId": "005d18ae-2f42-44ab-fde6-04253b64c4a1"
      },
      "id": "78eNTfYao_GA",
      "execution_count": 2,
      "outputs": [
        {
          "output_type": "stream",
          "name": "stdout",
          "text": [
            "data\t model.ipynb\t      spectrograms\t UrbanSound8K\n",
            "dataset  preprocessing.ipynb  spectrograms_made\n"
          ]
        }
      ]
    },
    {
      "cell_type": "code",
      "source": [
        "import os\n",
        "os.chdir(\"/gdrive/MyDrive/UrbanSoundClassification/\")"
      ],
      "metadata": {
        "id": "3NyZ6k8Eo_KX"
      },
      "id": "3NyZ6k8Eo_KX",
      "execution_count": 3,
      "outputs": []
    },
    {
      "cell_type": "code",
      "execution_count": 18,
      "id": "cbb4e1af",
      "metadata": {
        "colab": {
          "base_uri": "https://localhost:8080/"
        },
        "id": "cbb4e1af",
        "outputId": "2a15ada9-f15f-41fe-b30a-0cd8d241b08b"
      },
      "outputs": [
        {
          "output_type": "stream",
          "name": "stdout",
          "text": [
            "\u001b[K     |████████████████████████████████| 135 kB 35.6 MB/s \n",
            "\u001b[K     |████████████████████████████████| 1.6 MB 53.1 MB/s \n",
            "\u001b[?25h"
          ]
        }
      ],
      "source": [
        "!pip install -q -U keras-tuner\n",
        "import pickle\n",
        "import tensorflow\n",
        "from tensorflow import keras\n",
        "import keras_tuner as kt\n",
        "from keras.models import Sequential\n",
        "from keras.layers import Dense, Dropout, Flatten, Conv2D, MaxPool2D, BatchNormalization, Activation\n",
        "from tensorflow.keras.optimizers import Adam\n",
        "from keras.preprocessing.image import ImageDataGenerator\n",
        "from keras.callbacks import ModelCheckpoint\n",
        "from sklearn.metrics import confusion_matrix\n",
        "import itertools\n",
        "from keras.utils.np_utils import to_categorical\n",
        "import matplotlib.pyplot as plt"
      ]
    },
    {
      "cell_type": "code",
      "execution_count": 5,
      "id": "aee05bd4",
      "metadata": {
        "id": "aee05bd4"
      },
      "outputs": [],
      "source": [
        "# Get dataset\n",
        "\n",
        "pickle_file_link = \"dataset/\"\n",
        "x_train = pickle.load(open(f\"{pickle_file_link}/x_train.pickle\",\"rb\"))\n",
        "y_train = pickle.load(open(f\"{pickle_file_link}/y_train.pickle\",\"rb\"))\n",
        "\n",
        "x_test = pickle.load(open(f\"{pickle_file_link}/x_test.pickle\",\"rb\"))\n",
        "y_test = pickle.load(open(f\"{pickle_file_link}/y_test.pickle\",\"rb\"))\n",
        "\n",
        "x_val = pickle.load(open(f\"{pickle_file_link}/x_val.pickle\",\"rb\"))\n",
        "y_val = pickle.load(open(f\"{pickle_file_link}/y_val.pickle\",\"rb\"))"
      ]
    },
    {
      "cell_type": "code",
      "execution_count": 6,
      "id": "17f82102",
      "metadata": {
        "colab": {
          "base_uri": "https://localhost:8080/"
        },
        "id": "17f82102",
        "outputId": "47ad1523-a5cb-4228-beaf-24a3b23e1f21"
      },
      "outputs": [
        {
          "output_type": "stream",
          "name": "stdout",
          "text": [
            "(5588, 128, 128)\n",
            "(1397, 128, 128)\n",
            "(1747, 128, 128)\n",
            "(5588, 128, 128, 1)\n",
            "(1397, 128, 128, 1)\n",
            "(1747, 128, 128, 1)\n"
          ]
        }
      ],
      "source": [
        "import numpy as np\n",
        "print(x_train.shape)\n",
        "print(x_val.shape)\n",
        "print(x_test.shape)\n",
        "x_train = np.reshape (x_train, (len(x_train), 128, 128, 1))\n",
        "x_val =  np.reshape (x_val, (len(x_val), 128, 128, 1))\n",
        "x_test =  np.reshape (x_test, (len(x_test), 128, 128, 1))\n",
        "print(x_train.shape)\n",
        "print(x_val.shape)\n",
        "print(x_test.shape)"
      ]
    },
    {
      "cell_type": "code",
      "execution_count": 7,
      "id": "0d41bba6",
      "metadata": {
        "colab": {
          "base_uri": "https://localhost:8080/"
        },
        "id": "0d41bba6",
        "outputId": "08617b67-fb0a-44ec-cbdf-bc8c344780ef"
      },
      "outputs": [
        {
          "output_type": "stream",
          "name": "stdout",
          "text": [
            "Train: (5588, 128, 128, 1)\n",
            "Test: (1747, 128, 128, 1)\n"
          ]
        }
      ],
      "source": [
        "x_train = x_train.reshape(-1, 128, 128, 1)\n",
        "x_test = x_test.reshape(-1, 128, 128, 1)\n",
        "\n",
        "print('Train:', x_train.shape)\n",
        "print('Test:', x_test.shape)"
      ]
    },
    {
      "cell_type": "code",
      "execution_count": 8,
      "id": "0a6a87c4",
      "metadata": {
        "colab": {
          "base_uri": "https://localhost:8080/"
        },
        "id": "0a6a87c4",
        "outputId": "ce2e693a-191b-4edc-f814-adb1663fd7d8"
      },
      "outputs": [
        {
          "output_type": "stream",
          "name": "stdout",
          "text": [
            "Model: \"sequential\"\n",
            "_________________________________________________________________\n",
            " Layer (type)                Output Shape              Param #   \n",
            "=================================================================\n",
            " conv2d (Conv2D)             (None, 126, 126, 64)      640       \n",
            "                                                                 \n",
            " batch_normalization (BatchN  (None, 126, 126, 64)     256       \n",
            " ormalization)                                                   \n",
            "                                                                 \n",
            " activation (Activation)     (None, 126, 126, 64)      0         \n",
            "                                                                 \n",
            " conv2d_1 (Conv2D)           (None, 124, 124, 64)      36928     \n",
            "                                                                 \n",
            " batch_normalization_1 (Batc  (None, 124, 124, 64)     256       \n",
            " hNormalization)                                                 \n",
            "                                                                 \n",
            " activation_1 (Activation)   (None, 124, 124, 64)      0         \n",
            "                                                                 \n",
            " max_pooling2d (MaxPooling2D  (None, 62, 62, 64)       0         \n",
            " )                                                               \n",
            "                                                                 \n",
            " dropout (Dropout)           (None, 62, 62, 64)        0         \n",
            "                                                                 \n",
            " conv2d_2 (Conv2D)           (None, 60, 60, 32)        18464     \n",
            "                                                                 \n",
            " batch_normalization_2 (Batc  (None, 60, 60, 32)       128       \n",
            " hNormalization)                                                 \n",
            "                                                                 \n",
            " activation_2 (Activation)   (None, 60, 60, 32)        0         \n",
            "                                                                 \n",
            " conv2d_3 (Conv2D)           (None, 58, 58, 32)        9248      \n",
            "                                                                 \n",
            " batch_normalization_3 (Batc  (None, 58, 58, 32)       128       \n",
            " hNormalization)                                                 \n",
            "                                                                 \n",
            " activation_3 (Activation)   (None, 58, 58, 32)        0         \n",
            "                                                                 \n",
            " conv2d_4 (Conv2D)           (None, 56, 56, 32)        9248      \n",
            "                                                                 \n",
            " batch_normalization_4 (Batc  (None, 56, 56, 32)       128       \n",
            " hNormalization)                                                 \n",
            "                                                                 \n",
            " activation_4 (Activation)   (None, 56, 56, 32)        0         \n",
            "                                                                 \n",
            " max_pooling2d_1 (MaxPooling  (None, 28, 28, 32)       0         \n",
            " 2D)                                                             \n",
            "                                                                 \n",
            " dropout_1 (Dropout)         (None, 28, 28, 32)        0         \n",
            "                                                                 \n",
            " flatten (Flatten)           (None, 25088)             0         \n",
            "                                                                 \n",
            " dense (Dense)               (None, 128)               3211392   \n",
            "                                                                 \n",
            " batch_normalization_5 (Batc  (None, 128)              512       \n",
            " hNormalization)                                                 \n",
            "                                                                 \n",
            " activation_5 (Activation)   (None, 128)               0         \n",
            "                                                                 \n",
            " dropout_2 (Dropout)         (None, 128)               0         \n",
            "                                                                 \n",
            " dense_1 (Dense)             (None, 10)                1290      \n",
            "                                                                 \n",
            " activation_6 (Activation)   (None, 10)                0         \n",
            "                                                                 \n",
            "=================================================================\n",
            "Total params: 3,288,618\n",
            "Trainable params: 3,287,914\n",
            "Non-trainable params: 704\n",
            "_________________________________________________________________\n"
          ]
        }
      ],
      "source": [
        "model = Sequential()\n",
        "\n",
        "#1. KATMAN\n",
        "model.add(Conv2D(64, 3, data_format=\"channels_last\", kernel_initializer=\"he_normal\", input_shape=(128,128,1)))\n",
        "model.add(BatchNormalization())\n",
        "model.add(Activation('relu'))\n",
        "\n",
        "#2. KATMAN\n",
        "\n",
        "model.add(Conv2D(64, 3))\n",
        "model.add(BatchNormalization())\n",
        "model.add(Activation('relu'))\n",
        "model.add(MaxPool2D(pool_size=(2,2), strides=2))\n",
        "model.add(Dropout(0.6)) #%60 unutma işlemi(nöron silme-dropout)\n",
        "\n",
        "### 3. KATMAN\n",
        "model.add(Conv2D(32, 3))\n",
        "model.add(BatchNormalization())\n",
        "model.add(Activation('relu'))\n",
        "\n",
        "\n",
        "### 4. KATMAN\n",
        "model.add(Conv2D(32, 3))\n",
        "model.add(BatchNormalization())\n",
        "model.add(Activation('relu'))\n",
        "\n",
        "### 5. KATMAN\n",
        "model.add(Conv2D(32, 3))\n",
        "model.add(BatchNormalization())\n",
        "model.add(Activation('relu'))\n",
        "model.add(MaxPool2D(pool_size=(2,2), strides=2))\n",
        "model.add(Dropout(0.6)) #%60 unutma işlemi(nöron silme-dropout)\n",
        "\n",
        "### TAM BAĞLANTI KATMANI\n",
        "model.add(Flatten())\n",
        "model.add(Dense(128))\n",
        "model.add(BatchNormalization())\n",
        "model.add(Activation('relu'))\n",
        "model.add(Dropout(0.6))#%60 unutma işlemi(nöron silme-dropout)\n",
        "\n",
        "### Çıkış katmanı\n",
        "\n",
        "model.add(Dense(10))\n",
        "model.add(Activation('softmax')) \n",
        "\n",
        "model.compile(loss='sparse_categorical_crossentropy', optimizer='adam', metrics=['accuracy']) #opmizasyon ve başarım hesaplama metriklerinin belirlenmesi\n",
        "#model özetini görselleştirelim\n",
        "\n",
        "model.summary()"
      ]
    },
    {
      "cell_type": "code",
      "execution_count": 22,
      "id": "e83e1193",
      "metadata": {
        "colab": {
          "base_uri": "https://localhost:8080/"
        },
        "id": "e83e1193",
        "outputId": "b1736b1e-71a7-48b6-d1eb-e69c6a31136e"
      },
      "outputs": [
        {
          "output_type": "stream",
          "name": "stdout",
          "text": [
            "Epoch 1/30\n",
            "\n",
            "Epoch 1: val_loss improved from inf to 0.39658, saving model to data/sound_model1.h5\n",
            "175/175 - 12s - loss: 0.0500 - accuracy: 0.9839 - val_loss: 0.3966 - val_accuracy: 0.9141 - 12s/epoch - 70ms/step\n",
            "Epoch 2/30\n",
            "\n",
            "Epoch 2: val_loss did not improve from 0.39658\n",
            "175/175 - 12s - loss: 0.0522 - accuracy: 0.9835 - val_loss: 0.4564 - val_accuracy: 0.8962 - 12s/epoch - 69ms/step\n",
            "Epoch 3/30\n",
            "\n",
            "Epoch 3: val_loss did not improve from 0.39658\n",
            "175/175 - 12s - loss: 0.0461 - accuracy: 0.9855 - val_loss: 0.5366 - val_accuracy: 0.9012 - 12s/epoch - 69ms/step\n",
            "Epoch 4/30\n",
            "\n",
            "Epoch 4: val_loss did not improve from 0.39658\n",
            "175/175 - 12s - loss: 0.0524 - accuracy: 0.9817 - val_loss: 0.4225 - val_accuracy: 0.9091 - 12s/epoch - 69ms/step\n",
            "Epoch 5/30\n",
            "\n",
            "Epoch 5: val_loss did not improve from 0.39658\n",
            "175/175 - 12s - loss: 0.0535 - accuracy: 0.9812 - val_loss: 0.4930 - val_accuracy: 0.9077 - 12s/epoch - 69ms/step\n",
            "Epoch 6/30\n",
            "\n",
            "Epoch 6: val_loss did not improve from 0.39658\n",
            "175/175 - 12s - loss: 0.0420 - accuracy: 0.9851 - val_loss: 0.4697 - val_accuracy: 0.9170 - 12s/epoch - 69ms/step\n",
            "Epoch 7/30\n",
            "\n",
            "Epoch 7: val_loss improved from 0.39658 to 0.35861, saving model to data/sound_model1.h5\n",
            "175/175 - 13s - loss: 0.0431 - accuracy: 0.9844 - val_loss: 0.3586 - val_accuracy: 0.9134 - 13s/epoch - 75ms/step\n",
            "Epoch 8/30\n",
            "\n",
            "Epoch 8: val_loss did not improve from 0.35861\n",
            "175/175 - 12s - loss: 0.0466 - accuracy: 0.9866 - val_loss: 0.4033 - val_accuracy: 0.9019 - 12s/epoch - 69ms/step\n",
            "Epoch 9/30\n",
            "\n",
            "Epoch 9: val_loss did not improve from 0.35861\n",
            "175/175 - 12s - loss: 0.0588 - accuracy: 0.9819 - val_loss: 0.5258 - val_accuracy: 0.9041 - 12s/epoch - 69ms/step\n",
            "Epoch 10/30\n",
            "\n",
            "Epoch 10: val_loss did not improve from 0.35861\n",
            "175/175 - 12s - loss: 0.0468 - accuracy: 0.9846 - val_loss: 0.6007 - val_accuracy: 0.8890 - 12s/epoch - 69ms/step\n",
            "Epoch 11/30\n",
            "\n",
            "Epoch 11: val_loss did not improve from 0.35861\n",
            "175/175 - 12s - loss: 0.0466 - accuracy: 0.9841 - val_loss: 0.3670 - val_accuracy: 0.9112 - 12s/epoch - 69ms/step\n",
            "Epoch 12/30\n",
            "\n",
            "Epoch 12: val_loss did not improve from 0.35861\n",
            "175/175 - 12s - loss: 0.0402 - accuracy: 0.9864 - val_loss: 0.5707 - val_accuracy: 0.8933 - 12s/epoch - 69ms/step\n",
            "Epoch 13/30\n",
            "\n",
            "Epoch 13: val_loss did not improve from 0.35861\n",
            "175/175 - 12s - loss: 0.0426 - accuracy: 0.9855 - val_loss: 0.3939 - val_accuracy: 0.9084 - 12s/epoch - 69ms/step\n",
            "Epoch 14/30\n",
            "\n",
            "Epoch 14: val_loss did not improve from 0.35861\n",
            "175/175 - 12s - loss: 0.0405 - accuracy: 0.9866 - val_loss: 0.5670 - val_accuracy: 0.8905 - 12s/epoch - 69ms/step\n",
            "Epoch 15/30\n",
            "\n",
            "Epoch 15: val_loss did not improve from 0.35861\n",
            "175/175 - 12s - loss: 0.0413 - accuracy: 0.9850 - val_loss: 0.3989 - val_accuracy: 0.9162 - 12s/epoch - 69ms/step\n",
            "Epoch 16/30\n",
            "\n",
            "Epoch 16: val_loss did not improve from 0.35861\n",
            "175/175 - 12s - loss: 0.0472 - accuracy: 0.9853 - val_loss: 0.4885 - val_accuracy: 0.9091 - 12s/epoch - 69ms/step\n",
            "Epoch 17/30\n",
            "\n",
            "Epoch 17: val_loss did not improve from 0.35861\n",
            "175/175 - 12s - loss: 0.0459 - accuracy: 0.9823 - val_loss: 0.5063 - val_accuracy: 0.9012 - 12s/epoch - 69ms/step\n",
            "Epoch 18/30\n",
            "\n",
            "Epoch 18: val_loss did not improve from 0.35861\n",
            "175/175 - 12s - loss: 0.0493 - accuracy: 0.9834 - val_loss: 0.4681 - val_accuracy: 0.8941 - 12s/epoch - 69ms/step\n",
            "Epoch 19/30\n",
            "\n",
            "Epoch 19: val_loss did not improve from 0.35861\n",
            "175/175 - 12s - loss: 0.0435 - accuracy: 0.9862 - val_loss: 0.6178 - val_accuracy: 0.8998 - 12s/epoch - 69ms/step\n",
            "Epoch 20/30\n",
            "\n",
            "Epoch 20: val_loss did not improve from 0.35861\n",
            "175/175 - 12s - loss: 0.0428 - accuracy: 0.9843 - val_loss: 0.5153 - val_accuracy: 0.9034 - 12s/epoch - 69ms/step\n",
            "Epoch 21/30\n",
            "\n",
            "Epoch 21: val_loss did not improve from 0.35861\n",
            "175/175 - 12s - loss: 0.0510 - accuracy: 0.9834 - val_loss: 0.3972 - val_accuracy: 0.9177 - 12s/epoch - 71ms/step\n",
            "Epoch 22/30\n",
            "\n",
            "Epoch 22: val_loss did not improve from 0.35861\n",
            "175/175 - 12s - loss: 0.0525 - accuracy: 0.9814 - val_loss: 0.4154 - val_accuracy: 0.9062 - 12s/epoch - 69ms/step\n",
            "Epoch 23/30\n",
            "\n",
            "Epoch 23: val_loss did not improve from 0.35861\n",
            "175/175 - 12s - loss: 0.0409 - accuracy: 0.9853 - val_loss: 0.4568 - val_accuracy: 0.9120 - 12s/epoch - 71ms/step\n",
            "Epoch 24/30\n",
            "\n",
            "Epoch 24: val_loss did not improve from 0.35861\n",
            "175/175 - 12s - loss: 0.0411 - accuracy: 0.9853 - val_loss: 0.5283 - val_accuracy: 0.9098 - 12s/epoch - 69ms/step\n",
            "Epoch 25/30\n",
            "\n",
            "Epoch 25: val_loss did not improve from 0.35861\n",
            "175/175 - 12s - loss: 0.0433 - accuracy: 0.9869 - val_loss: 0.5558 - val_accuracy: 0.9034 - 12s/epoch - 69ms/step\n",
            "Epoch 26/30\n",
            "\n",
            "Epoch 26: val_loss did not improve from 0.35861\n",
            "175/175 - 12s - loss: 0.0470 - accuracy: 0.9843 - val_loss: 0.4400 - val_accuracy: 0.9112 - 12s/epoch - 69ms/step\n",
            "Epoch 27/30\n",
            "\n",
            "Epoch 27: val_loss did not improve from 0.35861\n",
            "175/175 - 12s - loss: 0.0455 - accuracy: 0.9837 - val_loss: 0.4162 - val_accuracy: 0.9098 - 12s/epoch - 71ms/step\n",
            "Epoch 28/30\n",
            "\n",
            "Epoch 28: val_loss did not improve from 0.35861\n",
            "175/175 - 12s - loss: 0.0377 - accuracy: 0.9862 - val_loss: 0.4505 - val_accuracy: 0.9205 - 12s/epoch - 69ms/step\n",
            "Epoch 29/30\n",
            "\n",
            "Epoch 29: val_loss did not improve from 0.35861\n",
            "175/175 - 12s - loss: 0.0398 - accuracy: 0.9877 - val_loss: 0.4373 - val_accuracy: 0.9141 - 12s/epoch - 69ms/step\n",
            "Epoch 30/30\n",
            "\n",
            "Epoch 30: val_loss did not improve from 0.35861\n",
            "175/175 - 12s - loss: 0.0379 - accuracy: 0.9866 - val_loss: 0.3787 - val_accuracy: 0.9134 - 12s/epoch - 69ms/step\n"
          ]
        }
      ],
      "source": [
        "# en başarılı ağırlıkları kaydet\n",
        "checkpointer = ModelCheckpoint(filepath='data/sound_model1.h5', verbose=1, save_best_only=True)\n",
        "\n",
        "epochs = 30\n",
        "batchSize = 32\n",
        "\n",
        "# run the model\n",
        "\n",
        "hist = model.fit(x_train, y_train,\n",
        "                 epochs=epochs,\n",
        "                 shuffle=True,\n",
        "                 batch_size=batchSize,\n",
        "                 validation_data=(x_val, y_val),\n",
        "                 callbacks=[checkpointer], verbose=2)\n",
        "                \n",
        "# save model to json\n",
        "model_json = model.to_json()\n",
        "with open('data/sound_model1.json', 'w') as json_file:\n",
        "  json_file.write(model_json)"
      ]
    },
    {
      "cell_type": "code",
      "execution_count": 23,
      "id": "7b04b2ff",
      "metadata": {
        "colab": {
          "base_uri": "https://localhost:8080/",
          "height": 233
        },
        "id": "7b04b2ff",
        "outputId": "77bedf39-4d20-48a8-f709-efd8618f9a2c"
      },
      "outputs": [
        {
          "output_type": "display_data",
          "data": {
            "text/plain": [
              "<Figure size 1008x216 with 2 Axes>"
            ],
            "image/png": "[encoded data removed]"
          },
          "metadata": {
            "needs_background": "light"
          }
        }
      ],
      "source": [
        "plt.figure(figsize=(14,3))\n",
        "plt.subplot(1, 2, 1)\n",
        "plt.suptitle('Eğitim', fontsize=10)\n",
        "plt.ylabel('Loss', fontsize=16)\n",
        "plt.plot(hist.history['loss'], color ='r', label='Training Loss')\n",
        "plt.plot(hist.history['val_loss'], color ='b', label='Validation Loss')\n",
        "plt.legend(loc='upper right')\n",
        "\n",
        "\n",
        "plt.subplot(1, 2, 2)\n",
        "plt.ylabel('Accuracy', fontsize=16)\n",
        "plt.plot(hist.history['accuracy'], color ='g', label='Training Accuracy')\n",
        "plt.plot(hist.history['val_accuracy'], color ='m', label='Validation Accuracy')\n",
        "plt.legend(loc='lower right')\n",
        "\n",
        "plt.show()"
      ]
    },
    {
      "cell_type": "code",
      "source": [
        "score = model.evaluate(x_test, y_test, verbose=0)\n",
        "print('Test Loss:', score[0])\n",
        "print('Test Accuracy:', score[1])"
      ],
      "metadata": {
        "colab": {
          "base_uri": "https://localhost:8080/"
        },
        "id": "r846jXSSrvLX",
        "outputId": "3e20442f-c909-4856-af8b-b1c8a3bef443"
      },
      "id": "r846jXSSrvLX",
      "execution_count": 24,
      "outputs": [
        {
          "output_type": "stream",
          "name": "stdout",
          "text": [
            "Test Loss: 0.3311389088630676\n",
            "Test Accuracy: 0.9273039698600769\n"
          ]
        }
      ]
    },
    {
      "cell_type": "code",
      "source": [
        "stop_early = tensorflow.keras.callbacks.EarlyStopping(monitor='val_loss', patience=10)\n",
        "\n",
        "epochs = 30\n",
        "batchSize = 32\n",
        "\n",
        "# run the model\n",
        "\n",
        "hist = model.fit(x_train, y_train,\n",
        "                 epochs=epochs,\n",
        "                 shuffle=True,\n",
        "                 batch_size=batchSize,\n",
        "                 validation_data=(x_val, y_val),\n",
        "                 callbacks=[stop_early], verbose=2)"
      ],
      "metadata": {
        "colab": {
          "base_uri": "https://localhost:8080/"
        },
        "id": "_6ziRtnrxmNy",
        "outputId": "6e2196e2-0341-4d1c-ebe7-5d0955a6f905"
      },
      "id": "_6ziRtnrxmNy",
      "execution_count": 28,
      "outputs": [
        {
          "output_type": "stream",
          "name": "stdout",
          "text": [
            "Epoch 1/30\n",
            "175/175 - 12s - loss: 0.0379 - accuracy: 0.9855 - val_loss: 0.5374 - val_accuracy: 0.9162 - 12s/epoch - 69ms/step\n",
            "Epoch 2/30\n",
            "175/175 - 12s - loss: 0.0475 - accuracy: 0.9846 - val_loss: 0.4024 - val_accuracy: 0.9105 - 12s/epoch - 69ms/step\n",
            "Epoch 3/30\n",
            "175/175 - 12s - loss: 0.0352 - accuracy: 0.9893 - val_loss: 0.4406 - val_accuracy: 0.9162 - 12s/epoch - 69ms/step\n",
            "Epoch 4/30\n",
            "175/175 - 12s - loss: 0.0372 - accuracy: 0.9868 - val_loss: 0.4784 - val_accuracy: 0.9019 - 12s/epoch - 69ms/step\n",
            "Epoch 5/30\n",
            "175/175 - 12s - loss: 0.0509 - accuracy: 0.9828 - val_loss: 0.6227 - val_accuracy: 0.8905 - 12s/epoch - 69ms/step\n",
            "Epoch 6/30\n",
            "175/175 - 12s - loss: 0.0403 - accuracy: 0.9864 - val_loss: 0.4364 - val_accuracy: 0.9191 - 12s/epoch - 69ms/step\n",
            "Epoch 7/30\n",
            "175/175 - 12s - loss: 0.0373 - accuracy: 0.9868 - val_loss: 0.4263 - val_accuracy: 0.9091 - 12s/epoch - 69ms/step\n",
            "Epoch 8/30\n",
            "175/175 - 12s - loss: 0.0330 - accuracy: 0.9878 - val_loss: 0.4802 - val_accuracy: 0.9141 - 12s/epoch - 69ms/step\n",
            "Epoch 9/30\n",
            "175/175 - 12s - loss: 0.0342 - accuracy: 0.9877 - val_loss: 0.4020 - val_accuracy: 0.9127 - 12s/epoch - 69ms/step\n",
            "Epoch 10/30\n",
            "175/175 - 12s - loss: 0.0376 - accuracy: 0.9869 - val_loss: 0.5588 - val_accuracy: 0.9055 - 12s/epoch - 69ms/step\n",
            "Epoch 11/30\n",
            "175/175 - 12s - loss: 0.0358 - accuracy: 0.9891 - val_loss: 0.5075 - val_accuracy: 0.9127 - 12s/epoch - 69ms/step\n",
            "Epoch 12/30\n",
            "175/175 - 12s - loss: 0.0351 - accuracy: 0.9878 - val_loss: 0.4760 - val_accuracy: 0.9041 - 12s/epoch - 69ms/step\n",
            "Epoch 13/30\n",
            "175/175 - 12s - loss: 0.0455 - accuracy: 0.9843 - val_loss: 0.3810 - val_accuracy: 0.9155 - 12s/epoch - 69ms/step\n",
            "Epoch 14/30\n",
            "175/175 - 12s - loss: 0.0351 - accuracy: 0.9880 - val_loss: 0.4319 - val_accuracy: 0.9148 - 12s/epoch - 69ms/step\n",
            "Epoch 15/30\n",
            "175/175 - 12s - loss: 0.0406 - accuracy: 0.9859 - val_loss: 0.5410 - val_accuracy: 0.8797 - 12s/epoch - 69ms/step\n",
            "Epoch 16/30\n",
            "175/175 - 12s - loss: 0.0350 - accuracy: 0.9878 - val_loss: 0.5447 - val_accuracy: 0.9084 - 12s/epoch - 69ms/step\n",
            "Epoch 17/30\n",
            "175/175 - 12s - loss: 0.0361 - accuracy: 0.9885 - val_loss: 0.3889 - val_accuracy: 0.9134 - 12s/epoch - 69ms/step\n",
            "Epoch 18/30\n",
            "175/175 - 12s - loss: 0.0455 - accuracy: 0.9848 - val_loss: 0.4904 - val_accuracy: 0.9155 - 12s/epoch - 69ms/step\n",
            "Epoch 19/30\n",
            "175/175 - 12s - loss: 0.0307 - accuracy: 0.9896 - val_loss: 0.4441 - val_accuracy: 0.9177 - 12s/epoch - 69ms/step\n",
            "Epoch 20/30\n",
            "175/175 - 12s - loss: 0.0310 - accuracy: 0.9875 - val_loss: 0.4864 - val_accuracy: 0.9048 - 12s/epoch - 69ms/step\n",
            "Epoch 21/30\n",
            "175/175 - 12s - loss: 0.0327 - accuracy: 0.9878 - val_loss: 0.4359 - val_accuracy: 0.9127 - 12s/epoch - 69ms/step\n",
            "Epoch 22/30\n",
            "175/175 - 12s - loss: 0.0374 - accuracy: 0.9882 - val_loss: 0.4578 - val_accuracy: 0.9069 - 12s/epoch - 69ms/step\n",
            "Epoch 23/30\n",
            "175/175 - 12s - loss: 0.0401 - accuracy: 0.9866 - val_loss: 0.4364 - val_accuracy: 0.9120 - 12s/epoch - 69ms/step\n"
          ]
        }
      ]
    },
    {
      "cell_type": "code",
      "source": [
        "plt.figure(figsize=(14,3))\n",
        "plt.subplot(1, 2, 1)\n",
        "plt.suptitle('Eğitim', fontsize=10)\n",
        "plt.ylabel('Loss', fontsize=16)\n",
        "plt.plot(hist.history['loss'], color ='r', label='Training Loss')\n",
        "plt.plot(hist.history['val_loss'], color ='b', label='Validation Loss')\n",
        "plt.legend(loc='upper right')\n",
        "\n",
        "\n",
        "plt.subplot(1, 2, 2)\n",
        "plt.ylabel('Accuracy', fontsize=16)\n",
        "plt.plot(hist.history['accuracy'], color ='g', label='Training Accuracy')\n",
        "plt.plot(hist.history['val_accuracy'], color ='m', label='Validation Accuracy')\n",
        "plt.legend(loc='lower right')\n",
        "\n",
        "plt.show()"
      ],
      "metadata": {
        "colab": {
          "base_uri": "https://localhost:8080/",
          "height": 233
        },
        "id": "26rIF_ecx5x_",
        "outputId": "eab7e5fd-df5e-4828-ea6e-6103536ad643"
      },
      "id": "26rIF_ecx5x_",
      "execution_count": 29,
      "outputs": [
        {
          "output_type": "display_data",
          "data": {
            "text/plain": [
              "<Figure size 1008x216 with 2 Axes>"
            ],
            "image/png": "[encoded data removed]"
          },
          "metadata": {
            "needs_background": "light"
          }
        }
      ]
    },
    {
      "cell_type": "code",
      "source": [
        "score = model.evaluate(x_test, y_test, verbose=0)\n",
        "print('Test Loss:', score[0])\n",
        "print('Test Accuracy:', score[1])"
      ],
      "metadata": {
        "colab": {
          "base_uri": "https://localhost:8080/"
        },
        "id": "TLB6jhwv0mua",
        "outputId": "262ec4f7-fc61-4ff5-83c1-df4e9756b8d2"
      },
      "id": "TLB6jhwv0mua",
      "execution_count": 30,
      "outputs": [
        {
          "output_type": "stream",
          "name": "stdout",
          "text": [
            "Test Loss: 0.4328095614910126\n",
            "Test Accuracy: 0.9129937291145325\n"
          ]
        }
      ]
    },
    {
      "cell_type": "code",
      "source": [],
      "metadata": {
        "id": "Z6gHaU2Y1fq2"
      },
      "id": "Z6gHaU2Y1fq2",
      "execution_count": null,
      "outputs": []
    }
  ],
  "metadata": {
    "kernelspec": {
      "display_name": "Python 3 (ipykernel)",
      "language": "python",
      "name": "python3"
    },
    "language_info": {
      "codemirror_mode": {
        "name": "ipython",
        "version": 3
      },
      "file_extension": ".py",
      "mimetype": "text/x-python",
      "name": "python",
      "nbconvert_exporter": "python",
      "pygments_lexer": "ipython3",
      "version": "3.9.13"
    },
    "colab": {
      "provenance": [],
      "collapsed_sections": [],
      "toc_visible": true,
      "include_colab_link": true
    },
    "accelerator": "GPU"
  },
  "nbformat": 4,
  "nbformat_minor": 5
}