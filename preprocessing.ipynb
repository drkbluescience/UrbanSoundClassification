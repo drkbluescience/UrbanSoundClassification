{
  "nbformat": 4,
  "nbformat_minor": 0,
  "metadata": {
    "colab": {
      "provenance": [],
      "collapsed_sections": [],
      "toc_visible": true,
      "mount_file_id": "1Sjv22Nf2ZeU_UOamEavBbkIXXp_AQN1-",
      "authorship_tag": "ABX9TyNewyhGfADxMzJAsjSVfQkY",
      "include_colab_link": true
    },
    "kernelspec": {
      "name": "python3",
      "display_name": "Python 3"
    },
    "language_info": {
      "name": "python"
    }
  },
  "cells": [
    {
      "cell_type": "markdown",
      "metadata": {
        "id": "view-in-github",
        "colab_type": "text"
      },
      "source": [
        "<a href=\"https://colab.research.google.com/github/zengin-enise/UrbanSoundClassification/blob/main/preprocessing.ipynb\" target=\"_parent\"><img src=\"https://colab.research.google.com/assets/colab-badge.svg\" alt=\"Open In Colab\"/></a>"
      ]
    },
    {
      "cell_type": "markdown",
      "source": [
        "##Urban Sounds Classification using CNN\n",
        "* Dataset is exist in the website [URBANSOUND8K ](https://urbansounddataset.weebly.com/urbansound8k.html)."
      ],
      "metadata": {
        "id": "_ljune5ZaGD3"
      }
    },
    {
      "cell_type": "code",
      "execution_count": 36,
      "metadata": {
        "colab": {
          "base_uri": "https://localhost:8080/",
          "height": 938
        },
        "id": "_dEfpvFlloCQ",
        "outputId": "8ebb8b85-deb2-43c9-8939-a4814d81540d"
      },
      "outputs": [
        {
          "output_type": "stream",
          "name": "stderr",
          "text": [
            "ERROR:root:Internal Python error in the inspect module.\n",
            "Below is the traceback from this internal error.\n",
            "\n"
          ]
        },
        {
          "output_type": "stream",
          "name": "stdout",
          "text": [
            "Mounted at /gdrive\n",
            "Traceback (most recent call last):\n",
            "  File \"/usr/local/lib/python3.7/dist-packages/IPython/core/interactiveshell.py\", line 3326, in run_code\n",
            "    exec(code_obj, self.user_global_ns, self.user_ns)\n",
            "  File \"<ipython-input-36-6bcb8909ac2b>\", line 3, in <module>\n",
            "    get_ipython().run_line_magic('cd', '/gdrive')\n",
            "  File \"/usr/local/lib/python3.7/dist-packages/IPython/core/interactiveshell.py\", line 2314, in run_line_magic\n",
            "    result = fn(*args, **kwargs)\n",
            "  File \"<decorator-gen-85>\", line 2, in cd\n",
            "  File \"/usr/local/lib/python3.7/dist-packages/IPython/core/magic.py\", line 187, in <lambda>\n",
            "    call = lambda f, *a, **k: f(*a, **k)\n",
            "  File \"/usr/local/lib/python3.7/dist-packages/IPython/core/magics/osm.py\", line 334, in cd\n",
            "    oldcwd = os.getcwd()\n",
            "OSError: [Errno 107] Transport endpoint is not connected\n",
            "\n",
            "During handling of the above exception, another exception occurred:\n",
            "\n",
            "Traceback (most recent call last):\n",
            "  File \"/usr/local/lib/python3.7/dist-packages/IPython/core/interactiveshell.py\", line 2040, in showtraceback\n",
            "    stb = value._render_traceback_()\n",
            "AttributeError: 'OSError' object has no attribute '_render_traceback_'\n",
            "\n",
            "During handling of the above exception, another exception occurred:\n",
            "\n",
            "Traceback (most recent call last):\n",
            "  File \"/usr/local/lib/python3.7/dist-packages/IPython/core/ultratb.py\", line 1101, in get_records\n",
            "    return _fixed_getinnerframes(etb, number_of_lines_of_context, tb_offset)\n",
            "  File \"/usr/local/lib/python3.7/dist-packages/IPython/core/ultratb.py\", line 319, in wrapped\n",
            "    return f(*args, **kwargs)\n",
            "  File \"/usr/local/lib/python3.7/dist-packages/IPython/core/ultratb.py\", line 353, in _fixed_getinnerframes\n",
            "    records = fix_frame_records_filenames(inspect.getinnerframes(etb, context))\n",
            "  File \"/usr/lib/python3.7/inspect.py\", line 1502, in getinnerframes\n",
            "    frameinfo = (tb.tb_frame,) + getframeinfo(tb, context)\n",
            "  File \"/usr/lib/python3.7/inspect.py\", line 1460, in getframeinfo\n",
            "    filename = getsourcefile(frame) or getfile(frame)\n",
            "  File \"/usr/lib/python3.7/inspect.py\", line 696, in getsourcefile\n",
            "    if getattr(getmodule(object, filename), '__loader__', None) is not None:\n",
            "  File \"/usr/lib/python3.7/inspect.py\", line 725, in getmodule\n",
            "    file = getabsfile(object, _filename)\n",
            "  File \"/usr/lib/python3.7/inspect.py\", line 709, in getabsfile\n",
            "    return os.path.normcase(os.path.abspath(_filename))\n",
            "  File \"/usr/lib/python3.7/posixpath.py\", line 383, in abspath\n",
            "    cwd = os.getcwd()\n",
            "OSError: [Errno 107] Transport endpoint is not connected\n"
          ]
        },
        {
          "output_type": "error",
          "ename": "OSError",
          "evalue": "ignored",
          "traceback": [
            "\u001b[0;31m---------------------------------------------------------------------------\u001b[0m"
          ]
        }
      ],
      "source": [
        "from google.colab import drive\n",
        "drive.mount('/gdrive')\n",
        "%cd /gdrive"
      ]
    },
    {
      "cell_type": "code",
      "source": [
        "!ls"
      ],
      "metadata": {
        "colab": {
          "base_uri": "https://localhost:8080/"
        },
        "id": "18Mg4jjlLsqI",
        "outputId": "9bf9201c-c866-4eb7-a9a6-9208fe9d8410"
      },
      "execution_count": null,
      "outputs": [
        {
          "output_type": "stream",
          "name": "stdout",
          "text": [
            "MyDrive\n"
          ]
        }
      ]
    },
    {
      "cell_type": "code",
      "source": [
        "!ls \"/gdrive/MyDrive/UrbanSoundClassification\""
      ],
      "metadata": {
        "colab": {
          "base_uri": "https://localhost:8080/"
        },
        "id": "gKdxIDNqLss-",
        "outputId": "b546a2fb-a999-4de2-80e5-eb67a2d8feac"
      },
      "execution_count": null,
      "outputs": [
        {
          "output_type": "stream",
          "name": "stdout",
          "text": [
            "model.ipynb  preprocessing.ipynb  spectrograms\tspectrograms_2\tUrbanSound8K\n"
          ]
        }
      ]
    },
    {
      "cell_type": "code",
      "source": [
        "import os\n",
        "os.chdir(\"/gdrive/MyDrive/UrbanSoundClassification/\")\n",
        "audio_dir='UrbanSound8K/audio/'\n",
        "image_dir='spectrograms/'"
      ],
      "metadata": {
        "id": "516GL7raPrVY"
      },
      "execution_count": 37,
      "outputs": []
    },
    {
      "cell_type": "code",
      "source": [
        "import librosa\n",
        "import librosa.display\n",
        "import matplotlib.pyplot as plt\n",
        "from sklearn.model_selection import train_test_split \n",
        "import seaborn as sns\n",
        "import pandas as pd\n",
        "from tqdm import tqdm # progress bar\n",
        "import numpy as np\n",
        "import os\n",
        "import cv2\n",
        "\n",
        "%matplotlib inline"
      ],
      "metadata": {
        "id": "we3WP7fzPuy2"
      },
      "execution_count": null,
      "outputs": []
    },
    {
      "cell_type": "markdown",
      "source": [
        "###Dataset\n",
        "Data is extracted from the drive."
      ],
      "metadata": {
        "id": "dVdR7iSgUgyO"
      }
    },
    {
      "cell_type": "code",
      "source": [
        "metadata=pd.read_csv('UrbanSound8K/metadata/UrbanSound8K.csv')\n",
        "metadata.head(10)"
      ],
      "metadata": {
        "colab": {
          "base_uri": "https://localhost:8080/",
          "height": 363
        },
        "id": "5paI_L0TP92I",
        "outputId": "01d8ce09-085b-451a-fd14-83a286a9aaa9"
      },
      "execution_count": null,
      "outputs": [
        {
          "output_type": "execute_result",
          "data": {
            "text/plain": [
              "      slice_file_name    fsID      start        end  salience  fold  classID  \\\n",
              "0    100032-3-0-0.wav  100032   0.000000   0.317551         1     5        3   \n",
              "1  100263-2-0-117.wav  100263  58.500000  62.500000         1     5        2   \n",
              "2  100263-2-0-121.wav  100263  60.500000  64.500000         1     5        2   \n",
              "3  100263-2-0-126.wav  100263  63.000000  67.000000         1     5        2   \n",
              "4  100263-2-0-137.wav  100263  68.500000  72.500000         1     5        2   \n",
              "5  100263-2-0-143.wav  100263  71.500000  75.500000         1     5        2   \n",
              "6  100263-2-0-161.wav  100263  80.500000  84.500000         1     5        2   \n",
              "7    100263-2-0-3.wav  100263   1.500000   5.500000         1     5        2   \n",
              "8   100263-2-0-36.wav  100263  18.000000  22.000000         1     5        2   \n",
              "9    100648-1-0-0.wav  100648   4.823402   5.471927         2    10        1   \n",
              "\n",
              "              class  \n",
              "0          dog_bark  \n",
              "1  children_playing  \n",
              "2  children_playing  \n",
              "3  children_playing  \n",
              "4  children_playing  \n",
              "5  children_playing  \n",
              "6  children_playing  \n",
              "7  children_playing  \n",
              "8  children_playing  \n",
              "9          car_horn  "
            ],
            "text/html": [
              "\n",
              "  <div id=\"df-8a268ee3-58e7-432b-bd0c-21dff2beb87f\">\n",
              "    <div class=\"colab-df-container\">\n",
              "      <div>\n",
              "<style scoped>\n",
              "    .dataframe tbody tr th:only-of-type {\n",
              "        vertical-align: middle;\n",
              "    }\n",
              "\n",
              "    .dataframe tbody tr th {\n",
              "        vertical-align: top;\n",
              "    }\n",
              "\n",
              "    .dataframe thead th {\n",
              "        text-align: right;\n",
              "    }\n",
              "</style>\n",
              "<table border=\"1\" class=\"dataframe\">\n",
              "  <thead>\n",
              "    <tr style=\"text-align: right;\">\n",
              "      <th></th>\n",
              "      <th>slice_file_name</th>\n",
              "      <th>fsID</th>\n",
              "      <th>start</th>\n",
              "      <th>end</th>\n",
              "      <th>salience</th>\n",
              "      <th>fold</th>\n",
              "      <th>classID</th>\n",
              "      <th>class</th>\n",
              "    </tr>\n",
              "  </thead>\n",
              "  <tbody>\n",
              "    <tr>\n",
              "      <th>0</th>\n",
              "      <td>100032-3-0-0.wav</td>\n",
              "      <td>100032</td>\n",
              "      <td>0.000000</td>\n",
              "      <td>0.317551</td>\n",
              "      <td>1</td>\n",
              "      <td>5</td>\n",
              "      <td>3</td>\n",
              "      <td>dog_bark</td>\n",
              "    </tr>\n",
              "    <tr>\n",
              "      <th>1</th>\n",
              "      <td>100263-2-0-117.wav</td>\n",
              "      <td>100263</td>\n",
              "      <td>58.500000</td>\n",
              "      <td>62.500000</td>\n",
              "      <td>1</td>\n",
              "      <td>5</td>\n",
              "      <td>2</td>\n",
              "      <td>children_playing</td>\n",
              "    </tr>\n",
              "    <tr>\n",
              "      <th>2</th>\n",
              "      <td>100263-2-0-121.wav</td>\n",
              "      <td>100263</td>\n",
              "      <td>60.500000</td>\n",
              "      <td>64.500000</td>\n",
              "      <td>1</td>\n",
              "      <td>5</td>\n",
              "      <td>2</td>\n",
              "      <td>children_playing</td>\n",
              "    </tr>\n",
              "    <tr>\n",
              "      <th>3</th>\n",
              "      <td>100263-2-0-126.wav</td>\n",
              "      <td>100263</td>\n",
              "      <td>63.000000</td>\n",
              "      <td>67.000000</td>\n",
              "      <td>1</td>\n",
              "      <td>5</td>\n",
              "      <td>2</td>\n",
              "      <td>children_playing</td>\n",
              "    </tr>\n",
              "    <tr>\n",
              "      <th>4</th>\n",
              "      <td>100263-2-0-137.wav</td>\n",
              "      <td>100263</td>\n",
              "      <td>68.500000</td>\n",
              "      <td>72.500000</td>\n",
              "      <td>1</td>\n",
              "      <td>5</td>\n",
              "      <td>2</td>\n",
              "      <td>children_playing</td>\n",
              "    </tr>\n",
              "    <tr>\n",
              "      <th>5</th>\n",
              "      <td>100263-2-0-143.wav</td>\n",
              "      <td>100263</td>\n",
              "      <td>71.500000</td>\n",
              "      <td>75.500000</td>\n",
              "      <td>1</td>\n",
              "      <td>5</td>\n",
              "      <td>2</td>\n",
              "      <td>children_playing</td>\n",
              "    </tr>\n",
              "    <tr>\n",
              "      <th>6</th>\n",
              "      <td>100263-2-0-161.wav</td>\n",
              "      <td>100263</td>\n",
              "      <td>80.500000</td>\n",
              "      <td>84.500000</td>\n",
              "      <td>1</td>\n",
              "      <td>5</td>\n",
              "      <td>2</td>\n",
              "      <td>children_playing</td>\n",
              "    </tr>\n",
              "    <tr>\n",
              "      <th>7</th>\n",
              "      <td>100263-2-0-3.wav</td>\n",
              "      <td>100263</td>\n",
              "      <td>1.500000</td>\n",
              "      <td>5.500000</td>\n",
              "      <td>1</td>\n",
              "      <td>5</td>\n",
              "      <td>2</td>\n",
              "      <td>children_playing</td>\n",
              "    </tr>\n",
              "    <tr>\n",
              "      <th>8</th>\n",
              "      <td>100263-2-0-36.wav</td>\n",
              "      <td>100263</td>\n",
              "      <td>18.000000</td>\n",
              "      <td>22.000000</td>\n",
              "      <td>1</td>\n",
              "      <td>5</td>\n",
              "      <td>2</td>\n",
              "      <td>children_playing</td>\n",
              "    </tr>\n",
              "    <tr>\n",
              "      <th>9</th>\n",
              "      <td>100648-1-0-0.wav</td>\n",
              "      <td>100648</td>\n",
              "      <td>4.823402</td>\n",
              "      <td>5.471927</td>\n",
              "      <td>2</td>\n",
              "      <td>10</td>\n",
              "      <td>1</td>\n",
              "      <td>car_horn</td>\n",
              "    </tr>\n",
              "  </tbody>\n",
              "</table>\n",
              "</div>\n",
              "      <button class=\"colab-df-convert\" onclick=\"convertToInteractive('df-8a268ee3-58e7-432b-bd0c-21dff2beb87f')\"\n",
              "              title=\"Convert this dataframe to an interactive table.\"\n",
              "              style=\"display:none;\">\n",
              "        \n",
              "  <svg xmlns=\"http://www.w3.org/2000/svg\" height=\"24px\"viewBox=\"0 0 24 24\"\n",
              "       width=\"24px\">\n",
              "    <path d=\"M0 0h24v24H0V0z\" fill=\"none\"/>\n",
              "    <path d=\"M18.56 5.44l.94 2.06.94-2.06 2.06-.94-2.06-.94-.94-2.06-.94 2.06-2.06.94zm-11 1L8.5 8.5l.94-2.06 2.06-.94-2.06-.94L8.5 2.5l-.94 2.06-2.06.94zm10 10l.94 2.06.94-2.06 2.06-.94-2.06-.94-.94-2.06-.94 2.06-2.06.94z\"/><path d=\"M17.41 7.96l-1.37-1.37c-.4-.4-.92-.59-1.43-.59-.52 0-1.04.2-1.43.59L10.3 9.45l-7.72 7.72c-.78.78-.78 2.05 0 2.83L4 21.41c.39.39.9.59 1.41.59.51 0 1.02-.2 1.41-.59l7.78-7.78 2.81-2.81c.8-.78.8-2.07 0-2.86zM5.41 20L4 18.59l7.72-7.72 1.47 1.35L5.41 20z\"/>\n",
              "  </svg>\n",
              "      </button>\n",
              "      \n",
              "  <style>\n",
              "    .colab-df-container {\n",
              "      display:flex;\n",
              "      flex-wrap:wrap;\n",
              "      gap: 12px;\n",
              "    }\n",
              "\n",
              "    .colab-df-convert {\n",
              "      background-color: #E8F0FE;\n",
              "      border: none;\n",
              "      border-radius: 50%;\n",
              "      cursor: pointer;\n",
              "      display: none;\n",
              "      fill: #1967D2;\n",
              "      height: 32px;\n",
              "      padding: 0 0 0 0;\n",
              "      width: 32px;\n",
              "    }\n",
              "\n",
              "    .colab-df-convert:hover {\n",
              "      background-color: #E2EBFA;\n",
              "      box-shadow: 0px 1px 2px rgba(60, 64, 67, 0.3), 0px 1px 3px 1px rgba(60, 64, 67, 0.15);\n",
              "      fill: #174EA6;\n",
              "    }\n",
              "\n",
              "    [theme=dark] .colab-df-convert {\n",
              "      background-color: #3B4455;\n",
              "      fill: #D2E3FC;\n",
              "    }\n",
              "\n",
              "    [theme=dark] .colab-df-convert:hover {\n",
              "      background-color: #434B5C;\n",
              "      box-shadow: 0px 1px 3px 1px rgba(0, 0, 0, 0.15);\n",
              "      filter: drop-shadow(0px 1px 2px rgba(0, 0, 0, 0.3));\n",
              "      fill: #FFFFFF;\n",
              "    }\n",
              "  </style>\n",
              "\n",
              "      <script>\n",
              "        const buttonEl =\n",
              "          document.querySelector('#df-8a268ee3-58e7-432b-bd0c-21dff2beb87f button.colab-df-convert');\n",
              "        buttonEl.style.display =\n",
              "          google.colab.kernel.accessAllowed ? 'block' : 'none';\n",
              "\n",
              "        async function convertToInteractive(key) {\n",
              "          const element = document.querySelector('#df-8a268ee3-58e7-432b-bd0c-21dff2beb87f');\n",
              "          const dataTable =\n",
              "            await google.colab.kernel.invokeFunction('convertToInteractive',\n",
              "                                                     [key], {});\n",
              "          if (!dataTable) return;\n",
              "\n",
              "          const docLinkHtml = 'Like what you see? Visit the ' +\n",
              "            '<a target=\"_blank\" href=https://colab.research.google.com/notebooks/data_table.ipynb>data table notebook</a>'\n",
              "            + ' to learn more about interactive tables.';\n",
              "          element.innerHTML = '';\n",
              "          dataTable['output_type'] = 'display_data';\n",
              "          await google.colab.output.renderOutput(dataTable, element);\n",
              "          const docLink = document.createElement('div');\n",
              "          docLink.innerHTML = docLinkHtml;\n",
              "          element.appendChild(docLink);\n",
              "        }\n",
              "      </script>\n",
              "    </div>\n",
              "  </div>\n",
              "  "
            ]
          },
          "metadata": {},
          "execution_count": 10
        }
      ]
    },
    {
      "cell_type": "code",
      "source": [
        "metadata.shape"
      ],
      "metadata": {
        "colab": {
          "base_uri": "https://localhost:8080/"
        },
        "id": "rsbT04rSWBLn",
        "outputId": "a4632375-3bc5-422e-d287-8df2c4588284"
      },
      "execution_count": null,
      "outputs": [
        {
          "output_type": "execute_result",
          "data": {
            "text/plain": [
              "(8732, 8)"
            ]
          },
          "metadata": {},
          "execution_count": 11
        }
      ]
    },
    {
      "cell_type": "code",
      "source": [
        "# Check whether the dataset is imbalanced\n",
        "plt.figure(figsize=(8, 5))\n",
        "sns.countplot(metadata['class'])\n",
        "plt.title(\"Count of records in each class\")\n",
        "plt.xticks(rotation=\"vertical\")\n",
        "plt.show()"
      ],
      "metadata": {
        "colab": {
          "base_uri": "https://localhost:8080/",
          "height": 478
        },
        "id": "Ncg5lcfbQAf_",
        "outputId": "b916e90b-d44f-4eb0-ba83-be6774fa133f"
      },
      "execution_count": null,
      "outputs": [
        {
          "output_type": "stream",
          "name": "stderr",
          "text": [
            "/usr/local/lib/python3.7/dist-packages/seaborn/_decorators.py:43: FutureWarning: Pass the following variable as a keyword arg: x. From version 0.12, the only valid positional argument will be `data`, and passing other arguments without an explicit keyword will result in an error or misinterpretation.\n",
            "  FutureWarning\n"
          ]
        },
        {
          "output_type": "display_data",
          "data": {
            "text/plain": [
              "<Figure size 576x360 with 1 Axes>"
            ],
            "image/png": "[encoded data removed]"
          },
          "metadata": {
            "needs_background": "light"
          }
        }
      ]
    },
    {
      "cell_type": "code",
      "source": [
        "# An audio sample from the third class\n",
        "audio_file_path= audio_dir + 'fold2/4201-3-0-0.wav'\n",
        "librosa_audio_data,librosa_sample_rate=librosa.load(audio_file_path)\n",
        "librosa.display.waveshow(librosa_audio_data, sr=librosa_sample_rate)\n",
        "plt.xlabel(\"Time\")\n",
        "plt.ylabel(\"Frequency\")"
      ],
      "metadata": {
        "colab": {
          "base_uri": "https://localhost:8080/",
          "height": 299
        },
        "id": "Bf-7KtrvP0Ju",
        "outputId": "47d29986-ee0b-468f-fa18-8a21823c31e9"
      },
      "execution_count": null,
      "outputs": [
        {
          "output_type": "execute_result",
          "data": {
            "text/plain": [
              "Text(18.75, 0.5, 'Frequency')"
            ]
          },
          "metadata": {},
          "execution_count": 13
        },
        {
          "output_type": "display_data",
          "data": {
            "text/plain": [
              "<Figure size 432x288 with 1 Axes>"
            ],
            "image/png": "[encoded data removed]"
          },
          "metadata": {
            "needs_background": "light"
          }
        }
      ]
    },
    {
      "cell_type": "markdown",
      "source": [
        "###Preprocessing"
      ],
      "metadata": {
        "id": "2LhnDrTIUcKu"
      }
    },
    {
      "cell_type": "code",
      "source": [
        "def create_spectrogram(audio_file_path):\n",
        "\n",
        "  audio_data, sample_rate=librosa.load(audio_file_path)\n",
        "  spec = librosa.feature.melspectrogram(audio_data)\n",
        "  spec_conv = librosa.amplitude_to_db(spec, ref=np.max)\n",
        "  return spec_conv\n"
      ],
      "metadata": {
        "id": "9hpysfxWP0NH"
      },
      "execution_count": null,
      "outputs": []
    },
    {
      "cell_type": "code",
      "source": [
        "  # Plot the transormed audio data (spectrogram)\n",
        "\n",
        "spec = librosa.feature.melspectrogram(librosa_audio_data)\n",
        "spec_conv = librosa.amplitude_to_db(spec, ref=np.max)\n",
        "fig, ax = plt.subplots(nrows=1, ncols=1, sharex=True)\n",
        "img = librosa.display.specshow(spec_conv, \n",
        "                                 y_axis='mel', \n",
        "                                 x_axis='time', \n",
        "                                 sr=librosa_sample_rate, \n",
        "                                 ax=ax)\n"
      ],
      "metadata": {
        "colab": {
          "base_uri": "https://localhost:8080/",
          "height": 279
        },
        "id": "sIDLyMNNPxVH",
        "outputId": "a98d7c0d-7f2e-4b90-c118-fc5d1652528b"
      },
      "execution_count": null,
      "outputs": [
        {
          "output_type": "display_data",
          "data": {
            "text/plain": [
              "<Figure size 432x288 with 1 Axes>"
            ],
            "image/png": "[encoded data removed]"
          },
          "metadata": {
            "needs_background": "light"
          }
        }
      ]
    },
    {
      "cell_type": "code",
      "source": [
        "# (index, Series)\n",
        "for index_num, row in tqdm(metadata.iterrows()):\n",
        "  audio_file_path = os.path.join(os.path.abspath(audio_dir),'fold'+str(row[\"fold\"])+'/',str(row[\"slice_file_name\"]))\n",
        "\n",
        "  if os.path.exists(os.path.join(image_dir + 'fold'+ str(row[\"classID\"]))) == False:\n",
        "    try:\n",
        "      os.mkdir(os.path.join(image_dir + 'fold'+ str(row[\"classID\"])))\n",
        "    except:\n",
        "      print(\"Folder already found\")\n",
        "    \n",
        "  image_file_path = os.path.join(os.path.abspath(image_dir),'fold'+str(row[\"classID\"])+'/',str(row[\"slice_file_name\"][0:-4]))\n",
        "  spec_conv = create_spectrogram(audio_file_path)\n",
        "\n",
        "  fig, ax = plt.subplots(nrows=1, ncols=1, sharex=True)\n",
        "  img = librosa.display.specshow(spec_conv, \n",
        "                                 y_axis='mel', \n",
        "                                 x_axis='time', \n",
        "                                 sr=librosa_sample_rate, \n",
        "                                 ax=ax)\n",
        "\n",
        "  fig.savefig(image_file_path, bbox_inches='tight', pad_inches=0) # save the figure\n",
        "  plt.close(fig)"
      ],
      "metadata": {
        "colab": {
          "base_uri": "https://localhost:8080/"
        },
        "id": "HyYPJc8hQSEH",
        "outputId": "8850ab22-7f57-4783-95b3-6dd327e5ab38"
      },
      "execution_count": null,
      "outputs": [
        {
          "output_type": "stream",
          "name": "stderr",
          "text": [
            "3555it [37:47,  1.76it/s]/usr/local/lib/python3.7/dist-packages/librosa/core/spectrum.py:224: UserWarning: n_fft=2048 is too small for input signal of length=1323\n",
            "  n_fft, y.shape[-1]\n",
            "5480it [58:40,  1.76it/s]"
          ]
        }
      ]
    },
    {
      "cell_type": "code",
      "source": [
        "# Grayscale, Resize and Normalization of Images\n",
        "\n",
        "extension = \".png\"\n",
        "images=[]\n",
        "\n",
        "for index_num,row in tqdm(metadata.iterrows()):\n",
        "  image_dir = image_dir+str(row[\"classID\"])+'/'+str(row[\"slice_file_name\"][0:-4])+extension\n",
        "\n",
        "  image = cv2.imread(image_dir, cv2.IMREAD_GRAYSCALE) \n",
        "  resized_image = cv2.resize(image, (128, 128), interpolation = cv2.INTER_AREA)\n",
        "  image_norm = cv2.normalize(resized_image, None, alpha=0,beta=200, norm_type=cv2.NORM_MINMAX) \n",
        "    \n",
        "  class_label=row[\"classID\"]\n",
        "  images.append((image_norm,class_label))"
      ],
      "metadata": {
        "id": "jXVTZ-Ju8QFp"
      },
      "execution_count": null,
      "outputs": []
    },
    {
      "cell_type": "code",
      "source": [
        "# Convert list to Pandas dataframe\n",
        "spec_dataset_df=pd.DataFrame(images,columns=['image','label'])"
      ],
      "metadata": {
        "id": "5s3v8lHbAFp9"
      },
      "execution_count": null,
      "outputs": []
    },
    {
      "cell_type": "markdown",
      "source": [
        "### Train-Test Split"
      ],
      "metadata": {
        "id": "14f-7W19DO-P"
      }
    },
    {
      "cell_type": "code",
      "source": [
        "X = np.array(spec_dataset_df['image'].tolist())\n",
        "y = np.array(spec_dataset_df['label'].tolist())"
      ],
      "metadata": {
        "id": "Mf608Ak9DYJN"
      },
      "execution_count": null,
      "outputs": []
    },
    {
      "cell_type": "code",
      "source": [
        "x_train, x_test, y_train, y_test = train_test_split(X, y, test_size=0.2, random_state = 42)\n",
        "x_train, x_val, y_train, y_val = train_test_split(x_train, y_train, test_size=0.2, random_state = 42)\n",
        "print(\"Number of training samples = \", x_train.shape[0])\n",
        "print(\"Number of testing samples = \",x_test.shape[0])\n",
        "print(\"Number of validation samples = \",x_val.shape[0])"
      ],
      "metadata": {
        "id": "zRf3CkqHDObI"
      },
      "execution_count": null,
      "outputs": []
    },
    {
      "cell_type": "code",
      "source": [
        "import pickle\n",
        "with open(\"dataset/x_train.pickle\",\"wb\") as f:\n",
        "    pickle.dump(x_train, f)\n",
        "with open(\"dataset/x_test.pickle\",\"wb\") as f:\n",
        "    pickle.dump(x_test, f)\n",
        "with open(\"dataset/x_val.pickle\",\"wb\") as f:\n",
        "    pickle.dump(x_val, f)\n",
        "with open(\"dataset/y_train.pickle\",\"wb\") as f:\n",
        "    pickle.dump(y_train, f)\n",
        "with open(\"dataset/y_test.pickle\",\"wb\") as f:\n",
        "    pickle.dump(y_test, f)\n",
        "with open(\"dataset/y_val.pickle\",\"wb\") as f:\n",
        "    pickle.dump(y_val, f)"
      ],
      "metadata": {
        "id": "fvRr4XAn3x4o"
      },
      "execution_count": null,
      "outputs": []
    },
    {
      "cell_type": "code",
      "source": [],
      "metadata": {
        "id": "CNE5Lv2l3x1y"
      },
      "execution_count": null,
      "outputs": []
    }
  ]
}